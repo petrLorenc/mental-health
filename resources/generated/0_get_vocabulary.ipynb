{
 "cells": [
  {
   "cell_type": "code",
   "execution_count": 15,
   "metadata": {
    "collapsed": true
   },
   "outputs": [],
   "source": [
    "import json\n",
    "\n",
    "with open(\"../../data/daic-woz/train_data.json\") as f:\n",
    "    data = json.load(f)"
   ]
  },
  {
   "cell_type": "code",
   "execution_count": 16,
   "outputs": [
    {
     "data": {
      "text/plain": "'007  Not sure if this  was fun! 558923 What do you think of it.? 500USD!'"
     },
     "execution_count": 16,
     "metadata": {},
     "output_type": "execute_result"
    }
   ],
   "source": [
    "# imports\n",
    "import re\n",
    "# function to remove special characters\n",
    "def remove_special_characters(text):\n",
    "    # define the pattern to keep\n",
    "    pat = r'[^a-zA-z0-9.,!?/:;\\\"\\'\\s]'\n",
    "    text = text.replace(\"_\", \"\")\n",
    "    text = text.replace(\"'s\", \"\")\n",
    "    return re.sub(pat, '', text)\n",
    "\n",
    "# call function\n",
    "remove_special_characters(\"0_0_7 _ Not sure@ if this % was #fun! 558923 What do# you think** of it.? $500USD!\")"
   ],
   "metadata": {
    "collapsed": false,
    "pycharm": {
     "name": "#%%\n"
    }
   }
  },
  {
   "cell_type": "code",
   "execution_count": 17,
   "outputs": [],
   "source": [
    "import contractions\n",
    "\n",
    "words = \"\"\n",
    "for item in data:\n",
    "    for transcript in item[\"transcripts\"]:\n",
    "        # if transcript[\"speaker\"] == \"Participant\":\n",
    "        # if transcript[\"speaker\"] == \"Ellie\":\n",
    "            cleaned_text = remove_special_characters(transcript[\"value\"])\n",
    "            cleaned_text = contractions.fix(cleaned_text)\n",
    "            words += \" \" + cleaned_text"
   ],
   "metadata": {
    "collapsed": false,
    "pycharm": {
     "name": "#%%\n"
    }
   }
  },
  {
   "cell_type": "markdown",
   "source": [
    "# Using CountVectorizer - DAIC"
   ],
   "metadata": {
    "collapsed": false,
    "pycharm": {
     "name": "#%% md\n"
    }
   }
  },
  {
   "cell_type": "code",
   "execution_count": 18,
   "outputs": [
    {
     "data": {
      "text/plain": "CountVectorizer(max_df=0.3, min_df=2)"
     },
     "execution_count": 18,
     "metadata": {},
     "output_type": "execute_result"
    }
   ],
   "source": [
    "texts = []\n",
    "for item in data:\n",
    "    for transcript in item[\"transcripts\"]:\n",
    "        if transcript[\"speaker\"] == \"Participant\":\n",
    "        # if transcript[\"speaker\"] == \"Ellie\":\n",
    "            cleaned_text = remove_special_characters(transcript[\"value\"])\n",
    "            cleaned_text = contractions.fix(cleaned_text)\n",
    "            texts.append(cleaned_text)\n",
    "\n",
    "from sklearn.feature_extraction.text import CountVectorizer\n",
    "cnt = CountVectorizer(ngram_range=(1,1), min_df=2, max_df=0.3)\n",
    "cnt.fit(texts)"
   ],
   "metadata": {
    "collapsed": false,
    "pycharm": {
     "name": "#%%\n"
    }
   }
  },
  {
   "cell_type": "code",
   "execution_count": 19,
   "outputs": [
    {
     "name": "stdout",
     "output_type": "stream",
     "text": [
      "3123\n"
     ]
    }
   ],
   "source": [
    "print(len(cnt.get_feature_names()))\n",
    "\n",
    "with open(f\"vocab_daic/unigrams_participant_{len(cnt.get_feature_names())}.txt\", \"w\") as f:\n",
    "    f.write(\"PAD\\n\")\n",
    "    f.write(\"UNK\\n\")\n",
    "    f.write(\"\\n\".join(cnt.get_feature_names()))\n"
   ],
   "metadata": {
    "collapsed": false,
    "pycharm": {
     "name": "#%%\n"
    }
   }
  },
  {
   "cell_type": "code",
   "execution_count": 20,
   "outputs": [
    {
     "data": {
      "text/plain": "CountVectorizer(max_df=0.3, min_df=2, ngram_range=(1, 2))"
     },
     "execution_count": 20,
     "metadata": {},
     "output_type": "execute_result"
    }
   ],
   "source": [
    "texts = []\n",
    "for item in data:\n",
    "    for transcript in item[\"transcripts\"]:\n",
    "        if transcript[\"speaker\"] == \"Participant\":\n",
    "        # if transcript[\"speaker\"] == \"Ellie\":\n",
    "            cleaned_text = remove_special_characters(transcript[\"value\"])\n",
    "            cleaned_text = contractions.fix(cleaned_text)\n",
    "            texts.append(cleaned_text)\n",
    "\n",
    "from sklearn.feature_extraction.text import CountVectorizer\n",
    "cnt = CountVectorizer(ngram_range=(1,2), min_df=2, max_df=0.3)\n",
    "cnt.fit(texts)"
   ],
   "metadata": {
    "collapsed": false,
    "pycharm": {
     "name": "#%%\n"
    }
   }
  },
  {
   "cell_type": "code",
   "execution_count": 21,
   "outputs": [
    {
     "name": "stdout",
     "output_type": "stream",
     "text": [
      "16385\n"
     ]
    }
   ],
   "source": [
    "print(len(cnt.get_feature_names()))\n",
    "\n",
    "with open(f\"vocab_daic/bigrams_participant_{len(cnt.get_feature_names())}.txt\", \"w\") as f:\n",
    "    f.write(\"PAD\\n\")\n",
    "    f.write(\"UNK\\n\")\n",
    "    f.write(\"\\n\".join(cnt.get_feature_names()))"
   ],
   "metadata": {
    "collapsed": false,
    "pycharm": {
     "name": "#%%\n"
    }
   }
  },
  {
   "cell_type": "code",
   "execution_count": 22,
   "outputs": [
    {
     "data": {
      "text/plain": "CountVectorizer(max_df=0.3, max_features=3123, min_df=2, ngram_range=(1, 2))"
     },
     "execution_count": 22,
     "metadata": {},
     "output_type": "execute_result"
    }
   ],
   "source": [
    "texts = []\n",
    "for item in data:\n",
    "    for transcript in item[\"transcripts\"]:\n",
    "        # if transcript[\"speaker\"] == \"Participant\":\n",
    "        # if transcript[\"speaker\"] == \"Ellie\":\n",
    "            cleaned_text = remove_special_characters(transcript[\"value\"])\n",
    "            cleaned_text = contractions.fix(cleaned_text)\n",
    "            texts.append(cleaned_text)\n",
    "\n",
    "from sklearn.feature_extraction.text import CountVectorizer\n",
    "# 3138 size of vocabulary for unigrams - to have similar situation as eRisk\n",
    "cnt = CountVectorizer(ngram_range=(1,2), min_df=2, max_df=0.3, max_features=3123)\n",
    "cnt.fit(texts)"
   ],
   "metadata": {
    "collapsed": false,
    "pycharm": {
     "name": "#%%\n"
    }
   }
  },
  {
   "cell_type": "code",
   "execution_count": 23,
   "outputs": [
    {
     "name": "stdout",
     "output_type": "stream",
     "text": [
      "3123\n"
     ]
    }
   ],
   "source": [
    "print(len(cnt.get_feature_names()))\n",
    "\n",
    "with open(f\"vocab_daic/bigrams_participant_{len(cnt.get_feature_names())}.txt\", \"w\") as f:\n",
    "    f.write(\"PAD\\n\")\n",
    "    f.write(\"UNK\\n\")\n",
    "    f.write(\"\\n\".join(cnt.get_feature_names()))"
   ],
   "metadata": {
    "collapsed": false,
    "pycharm": {
     "name": "#%%\n"
    }
   }
  },
  {
   "cell_type": "markdown",
   "source": [
    "# Using CountVectorizer - eRisk"
   ],
   "metadata": {
    "collapsed": false,
    "pycharm": {
     "name": "#%% md\n"
    }
   }
  },
  {
   "cell_type": "code",
   "execution_count": 24,
   "outputs": [
    {
     "ename": "FileNotFoundError",
     "evalue": "[Errno 2] No such file or directory: '../data/eRisk/writings_df_depression_liwc'",
     "output_type": "error",
     "traceback": [
      "\u001B[0;31m---------------------------------------------------------------------------\u001B[0m",
      "\u001B[0;31mFileNotFoundError\u001B[0m                         Traceback (most recent call last)",
      "\u001B[0;32m<ipython-input-24-c02fe07dbe22>\u001B[0m in \u001B[0;36m<module>\u001B[0;34m\u001B[0m\n\u001B[1;32m      1\u001B[0m \u001B[0;32mimport\u001B[0m \u001B[0mpickle\u001B[0m \u001B[0;32mas\u001B[0m \u001B[0mplk\u001B[0m\u001B[0;34m\u001B[0m\u001B[0;34m\u001B[0m\u001B[0m\n\u001B[0;32m----> 2\u001B[0;31m \u001B[0;32mwith\u001B[0m \u001B[0mopen\u001B[0m\u001B[0;34m(\u001B[0m\u001B[0;34m\"../data/eRisk/writings_df_depression_liwc\"\u001B[0m\u001B[0;34m,\u001B[0m \u001B[0;34m\"rb\"\u001B[0m\u001B[0;34m)\u001B[0m \u001B[0;32mas\u001B[0m \u001B[0mf\u001B[0m\u001B[0;34m:\u001B[0m\u001B[0;34m\u001B[0m\u001B[0;34m\u001B[0m\u001B[0m\n\u001B[0m\u001B[1;32m      3\u001B[0m     \u001B[0mdf\u001B[0m \u001B[0;34m=\u001B[0m \u001B[0mplk\u001B[0m\u001B[0;34m.\u001B[0m\u001B[0mload\u001B[0m\u001B[0;34m(\u001B[0m\u001B[0mf\u001B[0m\u001B[0;34m)\u001B[0m\u001B[0;34m\u001B[0m\u001B[0;34m\u001B[0m\u001B[0m\n\u001B[1;32m      4\u001B[0m \u001B[0;34m\u001B[0m\u001B[0m\n",
      "\u001B[0;31mFileNotFoundError\u001B[0m: [Errno 2] No such file or directory: '../data/eRisk/writings_df_depression_liwc'"
     ]
    }
   ],
   "source": [
    "import pickle as plk\n",
    "with open(\"../../data/eRisk/writings_df_depression_liwc\", \"rb\") as f:\n",
    "    df = plk.load(f)"
   ],
   "metadata": {
    "collapsed": false,
    "pycharm": {
     "name": "#%%\n"
    }
   }
  },
  {
   "cell_type": "code",
   "execution_count": 3,
   "outputs": [],
   "source": [
    "texts = []\n",
    "for row in df.itertuples():\n",
    "    words = []\n",
    "    raw_text = \"\"\n",
    "    raw_text += row.title\n",
    "    raw_text += row.text\n",
    "    texts.append(raw_text)"
   ],
   "metadata": {
    "collapsed": false,
    "pycharm": {
     "name": "#%%\n"
    }
   }
  },
  {
   "cell_type": "code",
   "execution_count": 4,
   "outputs": [
    {
     "data": {
      "text/plain": "CountVectorizer(max_df=0.3, max_features=20000, min_df=2, ngram_range=(1, 2))"
     },
     "execution_count": 4,
     "metadata": {},
     "output_type": "execute_result"
    }
   ],
   "source": [
    "from sklearn.feature_extraction.text import CountVectorizer\n",
    "cnt = CountVectorizer(ngram_range=(1,2), min_df=2, max_df=0.3, max_features=20000)\n",
    "cnt.fit(texts)"
   ],
   "metadata": {
    "collapsed": false,
    "pycharm": {
     "name": "#%%\n"
    }
   }
  },
  {
   "cell_type": "code",
   "execution_count": 5,
   "outputs": [
    {
     "data": {
      "text/plain": "20000"
     },
     "execution_count": 5,
     "metadata": {},
     "output_type": "execute_result"
    }
   ],
   "source": [
    "len(cnt.get_feature_names())"
   ],
   "metadata": {
    "collapsed": false,
    "pycharm": {
     "name": "#%%\n"
    }
   }
  },
  {
   "cell_type": "code",
   "execution_count": 6,
   "outputs": [
    {
     "data": {
      "text/plain": "['00',\n '000',\n '000 000',\n '000 people',\n '000 years',\n '00100000',\n '01',\n '02',\n '03',\n '04']"
     },
     "execution_count": 6,
     "metadata": {},
     "output_type": "execute_result"
    }
   ],
   "source": [
    "cnt.get_feature_names()[:10]"
   ],
   "metadata": {
    "collapsed": false,
    "pycharm": {
     "name": "#%%\n"
    }
   }
  },
  {
   "cell_type": "code",
   "execution_count": 7,
   "outputs": [],
   "source": [
    "with open(f\"vocab_erisk/vocab_bigrams_{len(cnt.get_feature_names())}.txt\", \"w\") as f:\n",
    "    f.write(\"PAD\\n\")\n",
    "    f.write(\"UNK\\n\")\n",
    "    f.write(\"\\n\".join(cnt.get_feature_names()))"
   ],
   "metadata": {
    "collapsed": false,
    "pycharm": {
     "name": "#%%\n"
    }
   }
  },
  {
   "cell_type": "code",
   "execution_count": 8,
   "outputs": [
    {
     "data": {
      "text/plain": "CountVectorizer(max_df=0.3, max_features=20000, min_df=2)"
     },
     "execution_count": 8,
     "metadata": {},
     "output_type": "execute_result"
    }
   ],
   "source": [
    "from sklearn.feature_extraction.text import CountVectorizer\n",
    "cnt = CountVectorizer(ngram_range=(1,1), min_df=2, max_df=0.3, max_features=20000)\n",
    "cnt.fit(texts)"
   ],
   "metadata": {
    "collapsed": false,
    "pycharm": {
     "name": "#%%\n"
    }
   }
  },
  {
   "cell_type": "code",
   "execution_count": 9,
   "outputs": [
    {
     "data": {
      "text/plain": "20000"
     },
     "execution_count": 9,
     "metadata": {},
     "output_type": "execute_result"
    }
   ],
   "source": [
    "len(cnt.get_feature_names())"
   ],
   "metadata": {
    "collapsed": false,
    "pycharm": {
     "name": "#%%\n"
    }
   }
  },
  {
   "cell_type": "code",
   "execution_count": 10,
   "outputs": [
    {
     "data": {
      "text/plain": "['00', '000', '001', '00100000', '006', '007', '009', '00pm', '01', '01100001']"
     },
     "execution_count": 10,
     "metadata": {},
     "output_type": "execute_result"
    }
   ],
   "source": [
    "cnt.get_feature_names()[:10]"
   ],
   "metadata": {
    "collapsed": false,
    "pycharm": {
     "name": "#%%\n"
    }
   }
  },
  {
   "cell_type": "code",
   "execution_count": 11,
   "outputs": [],
   "source": [
    "with open(f\"vocab_erisk/vocab_unigrams_{len(cnt.get_feature_names())}.txt\", \"w\") as f:\n",
    "    f.write(\"PAD\\n\")\n",
    "    f.write(\"UNK\\n\")\n",
    "    f.write(\"\\n\".join(cnt.get_feature_names()))\n",
    "\n"
   ],
   "metadata": {
    "collapsed": false,
    "pycharm": {
     "name": "#%%\n"
    }
   }
  }
 ],
 "metadata": {
  "kernelspec": {
   "display_name": "Python 3",
   "language": "python",
   "name": "python3"
  },
  "language_info": {
   "codemirror_mode": {
    "name": "ipython",
    "version": 2
   },
   "file_extension": ".py",
   "mimetype": "text/x-python",
   "name": "python",
   "nbconvert_exporter": "python",
   "pygments_lexer": "ipython2",
   "version": "2.7.6"
  }
 },
 "nbformat": 4,
 "nbformat_minor": 0
}