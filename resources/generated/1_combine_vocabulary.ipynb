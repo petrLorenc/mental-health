{
 "cells": [
  {
   "cell_type": "code",
   "execution_count": null,
   "outputs": [],
   "source": [
    "with open(\"vocab_daic/unigrams_3138.txt\" , \"r\") as f:\n",
    "    daic_unigrams_3138 = [x.strip() for x in f.readlines()]\n",
    "with open(\"vocab_daic/unigrams_5924.txt\" , \"r\") as f:\n",
    "    daic_unigrams_5924 = [x.strip() for x in f.readlines()]\n",
    "with open(\"vocab_daic/bigrams_16841.txt\" , \"r\") as f:\n",
    "    daic_bigrams_16841 = [x.strip() for x in f.readlines()]\n",
    "with open(\"vocab_daic/bigrams_3138.txt\" , \"r\") as f:\n",
    "    daic_bigrams_3138 = [x.strip() for x in f.readlines()]\n",
    "\n",
    "\n",
    "with open(\"vocab_erisk/unigrams_20000.txt\" , \"r\") as f:\n",
    "    erisk_unigrams_20000 = [x.strip() for x in f.readlines()]\n",
    "with open(\"vocab_erisk/unigrams_20000.txt.original\" , \"r\") as f:\n",
    "    erisk_unigrams_20000_original = [x.strip() for x in f.readlines()]\n",
    "with open(\"vocab_erisk/bigrams_20000.txt\" , \"r\") as f:\n",
    "    erisk_bigrams_20000 = [x.strip() for x in f.readlines()]"
   ],
   "metadata": {
    "collapsed": false,
    "pycharm": {
     "name": "#%%\n"
    }
   }
  },
  {
   "cell_type": "code",
   "execution_count": 8,
   "outputs": [
    {
     "name": "stdout",
     "output_type": "stream",
     "text": [
      "Length of vocabulary (erisk): 3140\n",
      "Length of vocabulary (erisk): 5926\n",
      "Length of vocabulary (erisk): 3140\n",
      "Length of vocabulary (erisk): 16843\n",
      "\n",
      "Length of vocabulary (daic): 20002\n",
      "Length of vocabulary (daic): 20002\n",
      "Length of vocabulary (daic): 20002\n"
     ]
    }
   ],
   "source": [
    "print(f\"Length of vocabulary (erisk): {len(daic_unigrams_3138)}\")\n",
    "print(f\"Length of vocabulary (erisk): {len(daic_unigrams_5924)}\")\n",
    "print(f\"Length of vocabulary (erisk): {len(daic_bigrams_3138)}\")\n",
    "print(f\"Length of vocabulary (erisk): {len(daic_bigrams_16841)}\")\n",
    "print()\n",
    "print(f\"Length of vocabulary (daic): {len(erisk_unigrams_20000)}\")\n",
    "print(f\"Length of vocabulary (daic): {len(erisk_unigrams_20000_original)}\")\n",
    "print(f\"Length of vocabulary (daic): {len(erisk_bigrams_20000)}\")"
   ],
   "metadata": {
    "collapsed": false,
    "pycharm": {
     "name": "#%%\n"
    }
   }
  },
  {
   "cell_type": "code",
   "execution_count": 7,
   "outputs": [
    {
     "name": "stdout",
     "output_type": "stream",
     "text": [
      "Intersection daic_unigrams_3138 & erisk_unigrams_20000: 2979\n",
      "Intersection daic_unigrams_3138 & erisk_unigrams_20000_original: 2998\n",
      "\n",
      "Intersection daic_unigrams_5924 & erisk_unigrams_20000: 4879\n",
      "Intersection daic_unigrams_5924 & erisk_unigrams_20000_original: 4929\n",
      "\n",
      "Intersection daic_bigrams_3138 & erisk_bigrams_20000: 2421\n",
      "Intersection daic_bigrams_16841 & erisk_bigrams_20000: 7757\n"
     ]
    }
   ],
   "source": [
    "print(f\"Intersection daic_unigrams_3138 & erisk_unigrams_20000: {len(set(daic_unigrams_3138) & set(erisk_unigrams_20000))}\")\n",
    "print(f\"Intersection daic_unigrams_3138 & erisk_unigrams_20000_original: {len(set(daic_unigrams_3138) & set(erisk_unigrams_20000_original))}\")\n",
    "print()\n",
    "print(f\"Intersection daic_unigrams_5924 & erisk_unigrams_20000: {len(set(daic_unigrams_5924) & set(erisk_unigrams_20000))}\")\n",
    "print(f\"Intersection daic_unigrams_5924 & erisk_unigrams_20000_original: {len(set(daic_unigrams_5924) & set(erisk_unigrams_20000_original))}\")\n",
    "print()\n",
    "print(f\"Intersection daic_bigrams_3138 & erisk_bigrams_20000: {len(set(daic_bigrams_3138) & set(erisk_bigrams_20000))}\")\n",
    "print(f\"Intersection daic_bigrams_16841 & erisk_bigrams_20000: {len(set(daic_bigrams_16841) & set(erisk_bigrams_20000))}\")"
   ],
   "metadata": {
    "collapsed": false,
    "pycharm": {
     "name": "#%%\n"
    }
   }
  },
  {
   "cell_type": "code",
   "execution_count": 9,
   "outputs": [
    {
     "name": "stdout",
     "output_type": "stream",
     "text": [
      "Joined daic_unigrams_3138 & erisk_unigrams_20000: 20163\n",
      "Joined daic_unigrams_3138 & erisk_unigrams_20000_original: 20144\n",
      "\n",
      "Joined daic_unigrams_5924 & erisk_unigrams_20000: 21049\n",
      "Joined daic_unigrams_5924 & erisk_unigrams_20000_original: 20999\n",
      "\n",
      "Joined daic_bigrams_3138 & erisk_bigrams_20000: 20721\n",
      "Joined daic_bigrams_16841 & erisk_bigrams_20000: 29088\n"
     ]
    }
   ],
   "source": [
    "print(f\"Joined daic_unigrams_3138 & erisk_unigrams_20000: {len(set(daic_unigrams_3138) | set(erisk_unigrams_20000))}\")\n",
    "print(f\"Joined daic_unigrams_3138 & erisk_unigrams_20000_original: {len(set(daic_unigrams_3138) | set(erisk_unigrams_20000_original))}\")\n",
    "print()\n",
    "print(f\"Joined daic_unigrams_5924 & erisk_unigrams_20000: {len(set(daic_unigrams_5924) | set(erisk_unigrams_20000))}\")\n",
    "print(f\"Joined daic_unigrams_5924 & erisk_unigrams_20000_original: {len(set(daic_unigrams_5924) | set(erisk_unigrams_20000_original))}\")\n",
    "print()\n",
    "print(f\"Joined daic_bigrams_3138 & erisk_bigrams_20000: {len(set(daic_bigrams_3138) | set(erisk_bigrams_20000))}\")\n",
    "print(f\"Joined daic_bigrams_16841 & erisk_bigrams_20000: {len(set(daic_bigrams_16841) | set(erisk_bigrams_20000))}\")\n"
   ],
   "metadata": {
    "collapsed": false,
    "pycharm": {
     "name": "#%%\n"
    }
   }
  },
  {
   "cell_type": "code",
   "execution_count": 12,
   "outputs": [],
   "source": [
    "joined_vocabulary = list(set(daic_unigrams_3138) | set(erisk_unigrams_20000))\n",
    "\n",
    "with open(f\"vocab_daic_erisk/unigrams_daic_unigrams_3138_erisk_unigrams_20000_resulting_{len(joined_vocabulary)}.txt\", \"w\") as f:\n",
    "    f.write(\"PAD\\n\")\n",
    "    f.write(\"UNK\\n\")\n",
    "    f.write(\"\\n\".join(joined_vocabulary))\n",
    "\n",
    "joined_vocabulary = list(set(daic_unigrams_3138) | set(erisk_unigrams_20000_original))\n",
    "\n",
    "with open(f\"vocab_daic_erisk/unigrams_daic_unigrams_3138_erisk_unigrams_20000_original_resulting_{len(joined_vocabulary)}.txt\", \"w\") as f:\n",
    "    f.write(\"PAD\\n\")\n",
    "    f.write(\"UNK\\n\")\n",
    "    f.write(\"\\n\".join(joined_vocabulary))\n",
    "\n",
    "joined_vocabulary = list(set(daic_unigrams_5924) | set(erisk_unigrams_20000))\n",
    "\n",
    "with open(f\"vocab_daic_erisk/unigrams_daic_unigrams_5924_erisk_unigrams_20000_resulting_{len(joined_vocabulary)}.txt\", \"w\") as f:\n",
    "    f.write(\"PAD\\n\")\n",
    "    f.write(\"UNK\\n\")\n",
    "    f.write(\"\\n\".join(joined_vocabulary))\n",
    "\n",
    "joined_vocabulary = list(set(daic_unigrams_5924) | set(erisk_unigrams_20000_original))\n",
    "\n",
    "with open(f\"vocab_daic_erisk/unigrams_daic_unigrams_5924_erisk_unigrams_20000_original_resulting_{len(joined_vocabulary)}.txt\", \"w\") as f:\n",
    "    f.write(\"PAD\\n\")\n",
    "    f.write(\"UNK\\n\")\n",
    "    f.write(\"\\n\".join(joined_vocabulary))\n",
    "\n",
    "joined_vocabulary = list(set(daic_bigrams_3138) | set(erisk_bigrams_20000))\n",
    "\n",
    "with open(f\"vocab_daic_erisk/bigrams_daic_bigrams_3138_erisk_bigrams_20000_resulting_{len(joined_vocabulary)}.txt\", \"w\") as f:\n",
    "    f.write(\"PAD\\n\")\n",
    "    f.write(\"UNK\\n\")\n",
    "    f.write(\"\\n\".join(joined_vocabulary))\n",
    "\n",
    "joined_vocabulary = list(set(daic_bigrams_16841) | set(erisk_bigrams_20000))\n",
    "\n",
    "with open(f\"vocab_daic_erisk/bigrams_daic_bigrams_16841_erisk_bigrams_20000_resulting_{len(joined_vocabulary)}.txt\", \"w\") as f:\n",
    "    f.write(\"PAD\\n\")\n",
    "    f.write(\"UNK\\n\")\n",
    "    f.write(\"\\n\".join(joined_vocabulary))"
   ],
   "metadata": {
    "collapsed": false,
    "pycharm": {
     "name": "#%%\n"
    }
   }
  },
  {
   "cell_type": "code",
   "execution_count": null,
   "outputs": [],
   "source": [],
   "metadata": {
    "collapsed": false,
    "pycharm": {
     "name": "#%%\n"
    }
   }
  }
 ],
 "metadata": {
  "kernelspec": {
   "display_name": "Python 3",
   "language": "python",
   "name": "python3"
  },
  "language_info": {
   "codemirror_mode": {
    "name": "ipython",
    "version": 2
   },
   "file_extension": ".py",
   "mimetype": "text/x-python",
   "name": "python",
   "nbconvert_exporter": "python",
   "pygments_lexer": "ipython2",
   "version": "2.7.6"
  }
 },
 "nbformat": 4,
 "nbformat_minor": 0
}