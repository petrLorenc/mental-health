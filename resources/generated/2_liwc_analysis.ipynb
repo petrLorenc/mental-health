{
 "cells": [
  {
   "cell_type": "code",
   "execution_count": 1,
   "metadata": {
    "collapsed": true
   },
   "outputs": [],
   "source": [
    "    import pickle as plk\n",
    "with open(\"liwc_categories_for_vocabulary_erisk_clpsych_stop_20K.pkl\", \"rb\") as f:\n",
    "    data = plk.load(f)"
   ]
  },
  {
   "cell_type": "code",
   "execution_count": 2,
   "outputs": [
    {
     "data": {
      "text/plain": "{'abortion',\n 'abortions',\n 'aids',\n 'ass',\n 'asses',\n 'bi',\n 'boner',\n 'boob',\n 'boobies',\n 'boobs',\n 'breast',\n 'breastfeeding',\n 'breasts',\n 'butt',\n 'butts',\n 'cock',\n 'cocks',\n 'condom',\n 'condoms',\n 'cuddle',\n 'cuddled',\n 'cuddles',\n 'cuddling',\n 'cuddly',\n 'dick',\n 'dicks',\n 'dyke',\n 'erection',\n 'erotic',\n 'fuck',\n 'fucked',\n 'fucker',\n 'fuckers',\n 'fuckery',\n 'fuckin',\n 'fucking',\n 'fucks',\n 'gay',\n 'gays',\n 'genital',\n 'genitals',\n 'hiv',\n 'ho',\n 'homo',\n 'homosexual',\n 'homosexuality',\n 'homosexuals',\n 'horny',\n 'hug',\n 'hugged',\n 'hugging',\n 'hugs',\n 'hump',\n 'incest',\n 'kiss',\n 'kissed',\n 'kisses',\n 'kissing',\n 'lesbian',\n 'lesbians',\n 'love',\n 'loved',\n 'lover',\n 'lovers',\n 'loves',\n 'lust',\n 'naked',\n 'nipple',\n 'nipples',\n 'nude',\n 'nudes',\n 'orgasm',\n 'orgasms',\n 'orgy',\n 'ovaries',\n 'passion',\n 'passionate',\n 'passionately',\n 'passions',\n 'penis',\n 'penises',\n 'pervert',\n 'porn',\n 'pornhub',\n 'porno',\n 'pornography',\n 'pregnancy',\n 'pregnant',\n 'prostate',\n 'prostitute',\n 'prostitutes',\n 'prostitution',\n 'pussy',\n 'queer',\n 'rape',\n 'raped',\n 'rapes',\n 'raping',\n 'rapist',\n 'rapists',\n 'screw',\n 'screwdriver',\n 'screwed',\n 'screwing',\n 'screws',\n 'sex',\n 'sexier',\n 'sexiest',\n 'sexism',\n 'sexist',\n 'sext',\n 'sexual',\n 'sexuality',\n 'sexually',\n 'sexy',\n 'slut',\n 'sluts',\n 'slutty',\n 'std',\n 'stds',\n 'stud',\n 'tit',\n 'tits',\n 'titties',\n 'titty',\n 'vagina',\n 'vaginas',\n 'virgin',\n 'virginia',\n 'virginity',\n 'virgins',\n 'whore',\n 'whores',\n 'womb'}"
     },
     "execution_count": 2,
     "metadata": {},
     "output_type": "execute_result"
    }
   ],
   "source": [
    "data[\"sexual\"]"
   ],
   "metadata": {
    "collapsed": false,
    "pycharm": {
     "name": "#%%\n"
    }
   }
  },
  {
   "cell_type": "code",
   "execution_count": 41,
   "outputs": [],
   "source": [
    "num2emo = {}\n",
    "whole_words = {}\n",
    "asterisk_words = {}\n",
    "\n",
    "with open(\"../liwc.dic\", \"r\") as f:\n",
    "    opening_tag = False\n",
    "    for line in f:\n",
    "        line = line.strip()\n",
    "        if line == \"%\":\n",
    "            opening_tag = not opening_tag\n",
    "            continue\n",
    "        if opening_tag:\n",
    "            _id, _name = line.split(\"\\t\")\n",
    "            num2emo[_id] = [_name]\n",
    "        elif \"*\" not in line:\n",
    "            _name, *_categories = line.split(\"\\t\")\n",
    "            whole_words[_name] = _categories\n",
    "        elif \"*\" in line and not line.startswith(\"*\"):\n",
    "            _name, *_categories = line.split(\"\\t\")\n",
    "            _chars = list(_name)\n",
    "            pointer = asterisk_words\n",
    "            for idx, char in enumerate(_chars):\n",
    "                if char == \"*\":\n",
    "                    pointer[\"*\"] = _categories\n",
    "                else:\n",
    "                    if char not in pointer:\n",
    "                        pointer[char] = {}\n",
    "                    pointer = pointer[char]\n",
    "        else:\n",
    "            raise Exception(f\"{line}\")"
   ],
   "metadata": {
    "collapsed": false,
    "pycharm": {
     "name": "#%%\n"
    }
   }
  },
  {
   "cell_type": "code",
   "execution_count": 42,
   "outputs": [
    {
     "data": {
      "text/plain": "[0.3333333333333333,\n 0.0,\n 0.0,\n 0.0,\n 0.0,\n 0.0,\n 0.0,\n 0.0,\n 0.0,\n 0.0,\n 0.0,\n 0.0,\n 0.0,\n 0.0,\n 0.0,\n 0.3333333333333333,\n 0.0,\n 0.0,\n 0.0,\n 0.0,\n 0.0,\n 0.0,\n 0.3333333333333333,\n 0.0,\n 0.0,\n 0.0,\n 0.0,\n 0.0,\n 0.0,\n 0.0,\n 0.0,\n 0.0,\n 0.0,\n 0.0,\n 0.0,\n 0.0,\n 0.0,\n 0.0,\n 0.0,\n 0.0,\n 0.0,\n 0.0,\n 0.0,\n 0.0,\n 0.0,\n 0.0,\n 0.0,\n 0.0,\n 0.0,\n 0.0,\n 0.0,\n 0.0,\n 0.0,\n 0.0,\n 0.3333333333333333,\n 0.0,\n 0.0,\n 0.0,\n 0.0,\n 0.0,\n 0.0,\n 0.0,\n 0.0,\n 0.0]"
     },
     "execution_count": 42,
     "metadata": {},
     "output_type": "execute_result"
    }
   ],
   "source": [
    "class LIWC_vectorizer(object):\n",
    "    def __init__(self, num2emo, whole_words, asterisk_words):\n",
    "        self.num2emo = num2emo\n",
    "        self.num2idx = {num: idx for idx, num in enumerate(self.num2emo.keys())}\n",
    "        self.whole_words = whole_words\n",
    "        self.asterisk_words = asterisk_words\n",
    "\n",
    "    def get_vector(self, tokens, relative=True):\n",
    "        categories_cnt = [0] * len(self.num2idx)\n",
    "        for word in tokens:\n",
    "            categories = whole_words.get(word, None)\n",
    "            if categories is None:\n",
    "                chars = list(word)\n",
    "                pointer = self.asterisk_words\n",
    "                for ch in chars:\n",
    "                    if ch in pointer:\n",
    "                        pointer = pointer[ch]\n",
    "                if \"*\" in pointer:\n",
    "                    categories = pointer[\"*\"]\n",
    "                else:\n",
    "                    # not found\n",
    "                    categories = []\n",
    "            for idx_category in categories:\n",
    "                categories_cnt[self.num2idx[idx_category]] += 1\n",
    "        text_len = len(tokens)\n",
    "        if relative:\n",
    "            for i in range(len(self.num2idx)):\n",
    "                categories_cnt[i] = categories_cnt[i] / text_len\n",
    "        return categories_cnt\n",
    "\n",
    "vec = LIWC_vectorizer(num2emo, whole_words, asterisk_words)\n",
    "vec.get_vector([\"advis\", \"actually\", \"xxxx\"])"
   ],
   "metadata": {
    "collapsed": false,
    "pycharm": {
     "name": "#%%\n"
    }
   }
  },
  {
   "cell_type": "code",
   "execution_count": null,
   "outputs": [],
   "source": [],
   "metadata": {
    "collapsed": false,
    "pycharm": {
     "name": "#%%\n"
    }
   }
  }
 ],
 "metadata": {
  "kernelspec": {
   "display_name": "Python 3",
   "language": "python",
   "name": "python3"
  },
  "language_info": {
   "codemirror_mode": {
    "name": "ipython",
    "version": 2
   },
   "file_extension": ".py",
   "mimetype": "text/x-python",
   "name": "python",
   "nbconvert_exporter": "python",
   "pygments_lexer": "ipython2",
   "version": "2.7.6"
  }
 },
 "nbformat": 4,
 "nbformat_minor": 0
}